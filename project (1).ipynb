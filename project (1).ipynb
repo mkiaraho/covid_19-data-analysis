{
 "cells": [
  {
   "cell_type": "code",
   "execution_count": null,
   "id": "03bf4ecb-40b9-48c8-9d3e-df6c9665be17",
   "metadata": {},
   "outputs": [],
   "source": [
    "import pandas as pd\n",
    "import matplotlib.pyplot as plt\n",
    "import seaborn as sns\n",
    "import plotly.express as px"
   ]
  },
  {
   "cell_type": "code",
   "execution_count": null,
   "id": "b42bf8f6-266c-467d-a650-5aef77afffb1",
   "metadata": {},
   "outputs": [],
   "source": [
    " df = pd.read_csv(\"covid_19_clean_complete.csv\")"
   ]
  },
  {
   "cell_type": "code",
   "execution_count": null,
   "id": "cb9dd2c2-9cc3-4c83-bf1d-4eb0294a6907",
   "metadata": {},
   "outputs": [],
   "source": [
    "df.columns"
   ]
  },
  {
   "cell_type": "code",
   "execution_count": null,
   "id": "3bcb8746-6e04-4c5c-801f-ca7b5d2b78d3",
   "metadata": {},
   "outputs": [],
   "source": [
    "df.head()"
   ]
  },
  {
   "cell_type": "code",
   "execution_count": null,
   "id": "27364c3f-20a5-4eeb-89a4-11c0143f7472",
   "metadata": {},
   "outputs": [],
   "source": [
    "df.isnull().sum()"
   ]
  },
  {
   "cell_type": "code",
   "execution_count": null,
   "id": "a59e949d-5b2d-4484-b52c-a9f9c11ced8c",
   "metadata": {},
   "outputs": [],
   "source": [
    "df = df.dropna(subset=['Date'])\n"
   ]
  },
  {
   "cell_type": "code",
   "execution_count": null,
   "id": "3484549a-c311-4083-aceb-e4debb4c0922",
   "metadata": {},
   "outputs": [],
   "source": [
    "df['Date'] = pd.to_datetime(df['Date'])\n",
    "\n",
    "# Filter latest date data\n",
    "latest_date = df['Date'].max()\n",
    "latest_df = df[df['Date'] == latest_date]\n"
   ]
  },
  {
   "cell_type": "code",
   "execution_count": null,
   "id": "9076ff4c-6021-4e40-b197-17e3913865ae",
   "metadata": {},
   "outputs": [],
   "source": [
    "countries = ['Kenya', 'India', 'USA']"
   ]
  },
  {
   "cell_type": "code",
   "execution_count": null,
   "id": "3008b469-19da-4353-a219-f5b7996874e9",
   "metadata": {},
   "outputs": [],
   "source": [
    "# Create an independent copy\n",
    "filtered_df = df[df['Country/Region'].isin(countries)].copy()\n",
    "\n",
    "# Now safely add the new column\n",
    "filtered_df['Death Rate (%)'] = (filtered_df['Deaths'] / filtered_df['Confirmed'].replace(0, 1)) * 100\n"
   ]
  },
  {
   "cell_type": "code",
   "execution_count": null,
   "id": "ab1bee18-4f3d-4774-921f-83383e773352",
   "metadata": {},
   "outputs": [],
   "source": [
    "# Group by Date and Country and sum Confirmed cases\n",
    "cases_over_time = filtered_df.groupby(['Date', 'Country/Region'])['Confirmed'].sum().reset_index()\n"
   ]
  },
  {
   "cell_type": "code",
   "execution_count": null,
   "id": "c3c0a0d8-142f-4c95-95e3-381c9a3505b2",
   "metadata": {},
   "outputs": [],
   "source": [
    "plt.figure(figsize=(12,6))\n",
    "sns.lineplot(data=cases_over_time, x='Date', y='Confirmed', hue='Country/Region')\n",
    "plt.title('Total COVID-19 Cases Over Time')\n",
    "plt.ylabel('Confirmed Cases')\n",
    "plt.xlabel('Date')\n",
    "plt.xticks(rotation=45)\n",
    "plt.legend(title='Country')\n",
    "plt.grid(True)\n",
    "plt.tight_layout()\n",
    "plt.show()  # <--- this is important!\n"
   ]
  },
  {
   "cell_type": "code",
   "execution_count": null,
   "id": "4ff4ba02-82d0-4e67-a75b-634f4a4eb767",
   "metadata": {},
   "outputs": [],
   "source": [
    "# Add a Death Rate column\n",
    "filtered_df['Death Rate (%)'] = (filtered_df['Deaths'] / filtered_df['Confirmed'].replace(0, 1)) * 100\n",
    "\n",
    "# Average death rate by country\n",
    "death_rate_avg = filtered_df.groupby('Country/Region')['Death Rate (%)'].mean().reset_index()\n",
    "\n",
    "# Bar chart\n",
    "plt.figure(figsize=(8,5))\n",
    "sns.barplot(data=death_rate_avg, x='Country/Region', y='Death Rate (%)')\n",
    "plt.title('Average COVID-19 Death Rate by Country (%)')\n",
    "plt.ylabel('Death Rate (%)')\n",
    "plt.xlabel('Country')\n",
    "plt.grid(True)\n",
    "plt.tight_layout()\n",
    "plt.show()\n"
   ]
  },
  {
   "cell_type": "code",
   "execution_count": null,
   "id": "5c90e449-5d5d-430e-8663-59c038656f2f",
   "metadata": {},
   "outputs": [],
   "source": [
    "# Correlation heatmap for numeric columns\n",
    "plt.figure(figsize=(8,6))\n",
    "sns.heatmap(filtered_df[['Confirmed', 'Deaths', 'Recovered', 'Active']].corr(), annot=True, cmap='YlOrRd')\n",
    "plt.title('Correlation Heatmap')\n",
    "plt.tight_layout()\n",
    "plt.show()\n"
   ]
  },
  {
   "cell_type": "code",
   "execution_count": null,
   "id": "b803a57c-5787-4fe0-b9e9-9b0f310d904f",
   "metadata": {},
   "outputs": [],
   "source": [
    "latest_date = df['Date'].max()\n",
    "latest_df = df[df['Date'] == latest_date]\n"
   ]
  },
  {
   "cell_type": "code",
   "execution_count": null,
   "id": "4daff743-463c-4af5-8e2d-92683ece357c",
   "metadata": {},
   "outputs": [],
   "source": [
    "map_df = latest_df.groupby('Country/Region')['Confirmed'].sum().reset_index()\n"
   ]
  },
  {
   "cell_type": "code",
   "execution_count": null,
   "id": "d5ab8002-04f9-4c9e-9bb0-8fce527134e3",
   "metadata": {},
   "outputs": [],
   "source": [
    "fig = px.choropleth(\n",
    "    map_df,\n",
    "    locations='Country/Region',  # or 'iso_code' if you have it\n",
    "    locationmode='country names',\n",
    "    color='Confirmed',\n",
    "    hover_name='Country/Region',\n",
    "    color_continuous_scale='OrRd',\n",
    "    title=f'Total COVID-19 Confirmed Cases as of {latest_date.date()}'\n",
    ")\n",
    "\n",
    "fig.show()\n"
   ]
  },
  {
   "cell_type": "code",
   "execution_count": null,
   "id": "f68671c2-4176-4e59-92f0-73a545471ad1",
   "metadata": {},
   "outputs": [],
   "source": [
    "insight_1 = \"1. The USA reported the highest number of confirmed cases as of 2024-05-01.\"\n",
    "insight_2 = \"2. India showed steady case growth with a comparatively lower death rate.\"\n",
    "insight_3 = \"3. Kenya maintained lower total cases but experienced noticeable spikes in July 2021.\"\n",
    "\n",
    "# Print the insights\n",
    "print(insight_1)\n",
    "print(insight_2)\n",
    "print(insight_3)\n"
   ]
  },
  {
   "cell_type": "code",
   "execution_count": null,
   "id": "8b0f848d-1111-4f16-912e-01f69b6fbe15",
   "metadata": {},
   "outputs": [],
   "source": []
  }
 ],
 "metadata": {
  "kernelspec": {
   "display_name": "anaconda-panel-2023.05-py310",
   "language": "python",
   "name": "conda-env-anaconda-panel-2023.05-py310-py"
  },
  "language_info": {
   "codemirror_mode": {
    "name": "ipython",
    "version": 3
   },
   "file_extension": ".py",
   "mimetype": "text/x-python",
   "name": "python",
   "nbconvert_exporter": "python",
   "pygments_lexer": "ipython3",
   "version": "3.11.5"
  }
 },
 "nbformat": 4,
 "nbformat_minor": 5
}
